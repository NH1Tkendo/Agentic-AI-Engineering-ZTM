{
 "cells": [
  {
   "cell_type": "markdown",
   "metadata": {},
   "source": [
    "# Welcome to the start of your adventure in Agentic AI"
   ]
  },
  {
   "cell_type": "markdown",
   "metadata": {},
   "source": [
    "<table style=\"margin: 0; text-align: left; width:100%\">\n",
    "    <tr>\n",
    "        <td style=\"width: 150px; height: 150px; vertical-align: middle;\">\n",
    "            <img src=\"../assets/stop.png\" width=\"150\" height=\"150\" style=\"display: block;\" />\n",
    "        </td>\n",
    "        <td>\n",
    "            <h2 style=\"color:#ff7800;\">Are you ready for action??</h2>\n",
    "            <span style=\"color:#ff7800;\">Have you completed all the setup steps in the <a href=\"../setup/\">setup</a> folder?<br/>\n",
    "            Have you read the <a href=\"../README.md\">README</a>? Many common questions are answered here!<br/>\n",
    "            Have you checked out the guides in the <a href=\"../guides/01_intro.ipynb\">guides</a> folder?<br/>\n",
    "            Well in that case, you're ready!!\n",
    "            </span>\n",
    "        </td>\n",
    "    </tr>\n",
    "</table>"
   ]
  },
  {
   "cell_type": "markdown",
   "metadata": {},
   "source": [
    "<table style=\"margin: 0; text-align: left; width:100%\">\n",
    "    <tr>\n",
    "        <td style=\"width: 150px; height: 150px; vertical-align: middle;\">\n",
    "            <img src=\"../assets/tools.png\" width=\"150\" height=\"150\" style=\"display: block;\" />\n",
    "        </td>\n",
    "        <td>\n",
    "            <h2 style=\"color:#00bfff;\">This code is a live resource - keep an eye out for my updates</h2>\n",
    "            <span style=\"color:#00bfff;\">I push updates regularly. As people ask questions or have problems, I add more examples and improve explanations. As a result, the code below might not be identical to the videos, as I've added more steps and better comments. Consider this like an interactive book that accompanies the lectures.<br/><br/>\n",
    "            I try to send emails regularly with important updates related to the course. You can find this in the 'Announcements' section of Udemy in the left sidebar. You can also choose to receive my emails via your Notification Settings in Udemy. I'm respectful of your inbox and always try to add value with my emails!\n",
    "            </span>\n",
    "        </td>\n",
    "    </tr>\n",
    "</table>"
   ]
  },
  {
   "cell_type": "markdown",
   "metadata": {},
   "source": [
    "### And please do remember to contact me if I can help\n",
    "\n",
    "And I love to connect: https://www.linkedin.com/in/eddonner/\n",
    "\n",
    "\n",
    "### New to Notebooks like this one? Head over to the guides folder!\n",
    "\n",
    "Just to check you've already added the Python and Jupyter extensions to Cursor, if not already installed:\n",
    "- Open extensions (View >> extensions)\n",
    "- Search for python, and when the results show, click on the ms-python one, and Install it if not already installed\n",
    "- Search for jupyter, and when the results show, click on the Microsoft one, and Install it if not already installed  \n",
    "Then View >> Explorer to bring back the File Explorer.\n",
    "\n",
    "And then:\n",
    "1. Click where it says \"Select Kernel\" near the top right, and select the option called `.venv (Python 3.12.9)` or similar, which should be the first choice or the most prominent choice. You may need to choose \"Python Environments\" first.\n",
    "2. Click in each \"cell\" below, starting with the cell immediately below this text, and press Shift+Enter to run\n",
    "3. Enjoy!\n",
    "\n",
    "After you click \"Select Kernel\", if there is no option like `.venv (Python 3.12.9)` then please do the following:  \n",
    "1. On Mac: From the Cursor menu, choose Settings >> VS Code Settings (NOTE: be sure to select `VSCode Settings` not `Cursor Settings`);  \n",
    "On Windows PC: From the File menu, choose Preferences >> VS Code Settings(NOTE: be sure to select `VSCode Settings` not `Cursor Settings`)  \n",
    "2. In the Settings search bar, type \"venv\"  \n",
    "3. In the field \"Path to folder with a list of Virtual Environments\" put the path to the project root, like C:\\Users\\username\\projects\\agents (on a Windows PC) or /Users/username/projects/agents (on Mac or Linux).  \n",
    "And then try again.\n",
    "\n",
    "Having problems with missing Python versions in that list? Have you ever used Anaconda before? It might be interferring. Quit Cursor, bring up a new command line, and make sure that your Anaconda environment is deactivated:    \n",
    "`conda deactivate`  \n",
    "And if you still have any problems with conda and python versions, it's possible that you will need to run this too:  \n",
    "`conda config --set auto_activate_base false`  \n",
    "and then from within the Agents directory, you should be able to run `uv python list` and see the Python 3.12 version."
   ]
  },
  {
   "cell_type": "code",
   "execution_count": 1,
   "metadata": {},
   "outputs": [],
   "source": [
    "# First let's do an import. If you get an Import Error, double check that your Kernel is correct..\n",
    "\n",
    "from dotenv import load_dotenv\n"
   ]
  },
  {
   "cell_type": "code",
   "execution_count": 2,
   "metadata": {},
   "outputs": [
    {
     "data": {
      "text/plain": [
       "True"
      ]
     },
     "execution_count": 2,
     "metadata": {},
     "output_type": "execute_result"
    }
   ],
   "source": [
    "# Next it's time to load the API keys into environment variables\n",
    "# If this returns false, see the next cell!\n",
    "\n",
    "load_dotenv(override=True)"
   ]
  },
  {
   "cell_type": "markdown",
   "metadata": {},
   "source": [
    "### Wait, did that just output `False`??\n",
    "\n",
    "If so, the most common reason is that you didn't save your `.env` file after adding the key! Be sure to have saved.\n",
    "\n",
    "Also, make sure the `.env` file is named precisely `.env` and is in the project root directory (`agents`)\n",
    "\n",
    "By the way, your `.env` file should have a stop symbol next to it in Cursor on the left, and that's actually a good thing: that's Cursor saying to you, \"hey, I realize this is a file filled with secret information, and I'm not going to send it to an external AI to suggest changes, because your keys should not be shown to anyone else.\""
   ]
  },
  {
   "cell_type": "markdown",
   "metadata": {},
   "source": [
    "<table style=\"margin: 0; text-align: left; width:100%\">\n",
    "    <tr>\n",
    "        <td style=\"width: 150px; height: 150px; vertical-align: middle;\">\n",
    "            <img src=\"../assets/stop.png\" width=\"150\" height=\"150\" style=\"display: block;\" />\n",
    "        </td>\n",
    "        <td>\n",
    "            <h2 style=\"color:#ff7800;\">Final reminders</h2>\n",
    "            <span style=\"color:#ff7800;\">1. If you're not confident about Environment Variables or Web Endpoints / APIs, please read Topics 3 and 5 in this <a href=\"../guides/04_technical_foundations.ipynb\">technical foundations guide</a>.<br/>\n",
    "            2. If you want to use AIs other than OpenAI, like Gemini, DeepSeek or Ollama (free), please see the first section in this <a href=\"../guides/09_ai_apis_and_ollama.ipynb\">AI APIs guide</a>.<br/>\n",
    "            3. If you ever get a Name Error in Python, you can always fix it immediately; see the last section of this <a href=\"../guides/06_python_foundations.ipynb\">Python Foundations guide</a> and follow both tutorials and exercises.<br/>\n",
    "            </span>\n",
    "        </td>\n",
    "    </tr>\n",
    "</table>"
   ]
  },
  {
   "cell_type": "code",
   "execution_count": 3,
   "metadata": {},
   "outputs": [
    {
     "name": "stdout",
     "output_type": "stream",
     "text": [
      "Gemini API Key exists and begins AIzaSyBI\n"
     ]
    }
   ],
   "source": [
    "# Check the key - if you're not using OpenAI, check whichever key you're using! Ollama doesn't need a key.\n",
    "\n",
    "import os\n",
    "gemini_api_key = os.getenv('GEMINI_API_KEY')\n",
    "\n",
    "if gemini_api_key:\n",
    "    print(f\"Gemini API Key exists and begins {gemini_api_key[:8]}\")\n",
    "else:\n",
    "    print(\"Gemini API Key not set - please head to the troubleshooting guide in the setup folder\")\n",
    "    \n"
   ]
  },
  {
   "cell_type": "code",
   "execution_count": 4,
   "metadata": {},
   "outputs": [],
   "source": [
    "# And now - the all important import statement\n",
    "# If you get an import error - head over to troubleshooting in the Setup folder\n",
    "# Even for other LLM providers like Gemini, you still use this OpenAI import - see Guide 9 for why\n",
    "\n",
    "from openai import OpenAI"
   ]
  },
  {
   "cell_type": "code",
   "execution_count": 5,
   "metadata": {},
   "outputs": [],
   "source": [
    "# And now we'll create an instance of the OpenAI class\n",
    "# If you're not sure what it means to create an instance of a class - head over to the guides folder (guide 6)!\n",
    "# If you get a NameError - head over to the guides folder (guide 6)to learn about NameErrors - always instantly fixable\n",
    "# If you're not using OpenAI, you just need to slightly modify this - precise instructions are in the AI APIs guide (guide 9)\n",
    "\n",
    "GEMINI_BASE_URL = \"https://generativelanguage.googleapis.com/v1beta/openai/\"\n",
    "gemini = OpenAI(base_url=GEMINI_BASE_URL, api_key=gemini_api_key)"
   ]
  },
  {
   "cell_type": "code",
   "execution_count": 6,
   "metadata": {},
   "outputs": [],
   "source": [
    "# Create a list of messages in the familiar OpenAI format\n",
    "\n",
    "messages = [{\"role\": \"user\", \"content\": \"What is 2+2?\"}]"
   ]
  },
  {
   "cell_type": "code",
   "execution_count": 7,
   "metadata": {},
   "outputs": [
    {
     "name": "stdout",
     "output_type": "stream",
     "text": [
      "2 + 2 = 4\n"
     ]
    }
   ],
   "source": [
    "# And now call it! Any problems, head to the troubleshooting guide\n",
    "# This uses GPT 4.1 nano, the incredibly cheap model\n",
    "# The APIs guide (guide 9) has exact instructions for using even cheaper or free alternatives to OpenAI\n",
    "# If you get a NameError, head to the guides folder (guide 6) to learn about NameErrors - always instantly fixable\n",
    "\n",
    "response = gemini.chat.completions.create(\n",
    "    model=\"gemini-2.5-flash-preview-05-20\",\n",
    "    messages=messages\n",
    ")\n",
    "\n",
    "print(response.choices[0].message.content)\n"
   ]
  },
  {
   "cell_type": "code",
   "execution_count": 8,
   "metadata": {},
   "outputs": [],
   "source": [
    "# And now - let's ask for a question:\n",
    "\n",
    "question = \"Please propose a hard, challenging question to assess someone's IQ. Respond only with the question.\"\n",
    "messages = [{\"role\": \"user\", \"content\": question}]\n"
   ]
  },
  {
   "cell_type": "code",
   "execution_count": 10,
   "metadata": {},
   "outputs": [
    {
     "name": "stdout",
     "output_type": "stream",
     "text": [
      "Given the following operations:\n",
      "3 @ 5 = 16\n",
      "4 @ 6 = 25\n",
      "5 @ 7 = 36\n",
      "\n",
      "What is 6 @ 8 = ?\n"
     ]
    }
   ],
   "source": [
    "# ask it - this uses GPT 4.1 mini, still cheap but more powerful than nano\n",
    "\n",
    "response = gemini.chat.completions.create(\n",
    "    model=\"gemini-2.5-flash-preview-05-20\",\n",
    "    messages=messages\n",
    ")\n",
    "\n",
    "question = response.choices[0].message.content\n",
    "\n",
    "print(question)\n"
   ]
  },
  {
   "cell_type": "code",
   "execution_count": 9,
   "metadata": {},
   "outputs": [],
   "source": [
    "# form a new messages list\n",
    "messages = [{\"role\": \"user\", \"content\": question}]\n"
   ]
  },
  {
   "cell_type": "code",
   "execution_count": 11,
   "metadata": {},
   "outputs": [
    {
     "name": "stdout",
     "output_type": "stream",
     "text": [
      "Consider a 3x3 grid where each cell contains either a '0' or a '1'.\n",
      "A single transformation operation on the grid is defined by the following rules, applied *simultaneously* to all cells:\n",
      "\n",
      "For each cell:\n",
      "1.  Count the number of its immediate orthogonal neighbors (up, down, left, right) that contain a '1'.\n",
      "2.  If this count is odd, the cell flips its value (a '0' becomes a '1', and a '1' becomes a '0').\n",
      "3.  If this count is even, the cell retains its current value.\n",
      "\n",
      "Cells on the edge or corner have fewer neighbors, and only existing neighbors are counted.\n",
      "\n",
      "Given an initial grid:\n",
      "1 0 1\n",
      "0 1 0\n",
      "1 0 1\n",
      "\n",
      "What will the grid look like after 100 such transformation operations?\n"
     ]
    }
   ],
   "source": [
    "# Ask it again\n",
    "\n",
    "response = gemini.chat.completions.create(\n",
    "    model=\"gemini-2.5-flash-preview-05-20\",\n",
    "    messages=messages\n",
    ")\n",
    "\n",
    "answer = response.choices[0].message.content\n",
    "print(answer)\n"
   ]
  },
  {
   "cell_type": "code",
   "execution_count": 12,
   "metadata": {},
   "outputs": [
    {
     "data": {
      "text/markdown": [
       "Consider a 3x3 grid where each cell contains either a '0' or a '1'.\n",
       "A single transformation operation on the grid is defined by the following rules, applied *simultaneously* to all cells:\n",
       "\n",
       "For each cell:\n",
       "1.  Count the number of its immediate orthogonal neighbors (up, down, left, right) that contain a '1'.\n",
       "2.  If this count is odd, the cell flips its value (a '0' becomes a '1', and a '1' becomes a '0').\n",
       "3.  If this count is even, the cell retains its current value.\n",
       "\n",
       "Cells on the edge or corner have fewer neighbors, and only existing neighbors are counted.\n",
       "\n",
       "Given an initial grid:\n",
       "1 0 1\n",
       "0 1 0\n",
       "1 0 1\n",
       "\n",
       "What will the grid look like after 100 such transformation operations?"
      ],
      "text/plain": [
       "<IPython.core.display.Markdown object>"
      ]
     },
     "metadata": {},
     "output_type": "display_data"
    }
   ],
   "source": [
    "from IPython.display import Markdown, display\n",
    "\n",
    "display(Markdown(answer))\n",
    "\n"
   ]
  },
  {
   "cell_type": "markdown",
   "metadata": {},
   "source": [
    "# Congratulations!\n",
    "\n",
    "That was a small, simple step in the direction of Agentic AI, with your new environment!\n",
    "\n",
    "Next time things get more interesting..."
   ]
  },
  {
   "cell_type": "markdown",
   "metadata": {},
   "source": [
    "<table style=\"margin: 0; text-align: left; width:100%\">\n",
    "    <tr>\n",
    "        <td style=\"width: 150px; height: 150px; vertical-align: middle;\">\n",
    "            <img src=\"../assets/exercise.png\" width=\"150\" height=\"150\" style=\"display: block;\" />\n",
    "        </td>\n",
    "        <td>\n",
    "            <h2 style=\"color:#ff7800;\">Exercise</h2>\n",
    "            <span style=\"color:#ff7800;\">Now try this commercial application:<br/>\n",
    "            First ask the LLM to pick a business area that might be worth exploring for an Agentic AI opportunity.<br/>\n",
    "            Then ask the LLM to present a pain-point in that industry - something challenging that might be ripe for an Agentic solution.<br/>\n",
    "            Finally have 3 third LLM call propose the Agentic AI solution. <br/>\n",
    "            We will cover this at up-coming labs, so don't worry if you're unsure.. just give it a try!\n",
    "            </span>\n",
    "        </td>\n",
    "    </tr>\n",
    "</table>"
   ]
  },
  {
   "cell_type": "code",
   "execution_count": 16,
   "metadata": {},
   "outputs": [
    {
     "data": {
      "text/markdown": [
       "Một lĩnh vực kinh doanh đầy tiềm năng và rất đáng để khám phá cho cơ hội Agentic AI là **Giáo dục cá nhân hóa (Personalized Education) hoặc Trợ lý học tập thông minh.**\n",
       "\n",
       "**Lý do:**\n",
       "\n",
       "1.  **Nhu cầu cấp thiết:** Hệ thống giáo dục truyền thống thường là \"một kích cỡ phù hợp cho tất cả\" (one-size-fits-all), nhưng mỗi học sinh có phong cách học, tốc độ, điểm mạnh và điểm yếu riêng. Nhu cầu về một trải nghiệm học tập được thiết kế riêng là rất lớn.\n",
       "\n",
       "2.  **Khả năng của Agentic AI:**\n",
       "    *   **Hiểu và Thích ứng:** Một Agentic AI có thể liên tục theo dõi và phân tích hiệu suất, sự tương tác, sở thích và thậm chí cả trạng thái cảm xúc của học sinh để hiểu rõ cách họ học tốt nhất.\n",
       "    *   **Lộ trình học tập tự chủ:** Dựa trên dữ liệu thu thập được, AI có thể tự động điều chỉnh lộ trình học tập, tài liệu, bài tập và tốc độ giảng dạy theo thời gian thực. Nó không chỉ cung cấp nội dung mà còn *chủ động* tìm kiếm, tổng hợp và tạo ra nội dung phù hợp nhất.\n",
       "    *   **Gia sư và Huấn luyện viên cá nhân:** AI có thể đóng vai trò như một gia sư cá nhân, chủ động phát hiện lỗ hổng kiến thức, giải thích khái niệm theo nhiều cách khác nhau, đưa ra các bài tập củng cố và thậm chí gợi ý các dự án thực hành dựa trên sở thích của học sinh.\n",
       "    *   **Thiết lập và theo dõi mục tiêu:** Giúp học sinh thiết lập mục tiêu học tập thực tế và theo dõi tiến độ một cách thông minh, đưa ra phản hồi mang tính xây dựng và động viên khi cần.\n",
       "    *   **Quản lý tài nguyên và công cụ:** Một agent có thể tích hợp và sử dụng các công cụ học tập khác nhau (video, sách điện tử, ứng dụng luyện thi, phòng thí nghiệm ảo) một cách hiệu quả, tự động chọn công cụ phù hợp nhất cho từng nhiệm vụ hoặc chủ đề.\n",
       "    *   **Phản hồi và Đánh giá liên tục:** Thay vì chỉ đánh giá cuối kỳ, AI có thể cung cấp phản hồi liên tục, chi tiết về hiệu suất, giúp học sinh hiểu rõ mình cần cải thiện ở đâu và làm thế nào.\n",
       "\n",
       "3.  **Thị trường rộng lớn:** Lĩnh vực EdTech đang phát triển mạnh mẽ và có tiềm năng mở rộng ra nhiều đối tượng từ học sinh phổ thông, sinh viên đại học đến người đi làm muốn nâng cao kỹ năng (upskilling/reskilling).\n",
       "\n",
       "**Tóm lại:** Việc phát triển một Agentic AI đóng vai trò như một \"trợ lý học tập cá nhân\" hoặc \"người bạn đồng hành học tập\" có khả năng tự chủ, chủ động và thích ứng sẽ là một cơ hội lớn để cách mạng hóa giáo dục, giúp mỗi cá nhân phát huy tối đa tiềm năng của mình."
      ],
      "text/plain": [
       "<IPython.core.display.Markdown object>"
      ]
     },
     "metadata": {},
     "output_type": "display_data"
    },
    {
     "data": {
      "text/markdown": [
       "Tuyệt vời! Lĩnh vực Giáo dục Cá nhân hóa thực sự là một mảnh đất màu mỡ cho Agentic AI. Dựa trên phân tích của bạn, đây là một điểm đau lớn trong ngành mà một giải pháp Agentic có thể giải quyết triệt để:\n",
       "\n",
       "---\n",
       "\n",
       "**Điểm đau: Thiếu khả năng thấu hiểu sâu sắc, chủ động chẩn đoán gốc rễ vấn đề và liên tục thích nghi động với từng cá nhân học sinh trong quá trình học tập.**\n",
       "\n",
       "Mặc dù lĩnh vực giáo dục cá nhân hóa (Personalized Education) đã phát triển mạnh mẽ, một thách thức lớn vẫn tồn tại là các hệ thống hiện có, kể cả những công cụ thông minh nhất, vẫn gặp khó khăn trong việc:\n",
       "\n",
       "1.  **Chẩn đoán gốc rễ vấn đề học tập (Root Cause Diagnosis) thay vì chỉ phát hiện triệu chứng:**\n",
       "    *   Hệ thống thường có thể nhận diện *khi* một học sinh gặp khó khăn hoặc trả lời sai, nhưng lại khó khăn trong việc *chủ động thấu hiểu nguyên nhân sâu xa* của vấn đề đó. Ví dụ, liệu học sinh đó gặp khó khăn với một khái niệm cụ thể (như phân số) hay do thiếu kiến thức nền tảng từ những chủ đề trước đó (như phép chia)? Hay do phương pháp giảng dạy hiện tại không phù hợp với phong cách học của họ?\n",
       "    *   Việc này đòi hỏi một khả năng phân tích đa chiều, liên tục và đưa ra giả thuyết, kiểm chứng như một chuyên gia, điều mà các thuật toán dựa trên luật hoặc học máy đơn thuần thường khó đạt được một cách toàn diện.\n",
       "\n",
       "2.  **Thích nghi động và đa chiều (Dynamic & Multi-dimensional Adaptation) theo thời gian thực:**\n",
       "    *   Hầu hết các hệ thống \"cá nhân hóa\" hiện nay thường cung cấp các lộ trình học tập được định sẵn dựa trên đánh giá ban đầu, hoặc điều chỉnh nội dung một cách tuyến tính (ví dụ: nếu sai thì lặp lại bài tập tương tự). Chúng thiếu khả năng:\n",
       "        *   **Thay đổi chiến lược giảng dạy/phương pháp tiếp cận:** Khi nhận thấy một cách giải thích không hiệu quả, AI cần tự động thử các cách giải thích, ví dụ, hoặc loại bài tập khác. Nó cần linh hoạt thay đổi từ giảng bài, sang hỏi đáp, sang dự án thực hành, tùy theo mức độ hiệu quả.\n",
       "        *   **Điều chỉnh tốc độ và độ phức tạp một cách thông minh:** Không chỉ tăng hoặc giảm mức độ, mà còn biết *khi nào* cần lùi lại để củng cố nền tảng, hoặc *khi nào* nên tiến xa hơn để giữ sự hứng thú và thách thức.\n",
       "        *   **Phản ứng với trạng thái cảm xúc/tinh thần:** Nhận biết khi học sinh nản chí, mất tập trung hoặc quá tải (thông qua tương tác, thời gian phản hồi, hoặc thậm chí là phân tích văn bản/giọng nói) để đưa ra những can thiệp phù hợp (nghỉ ngơi, động viên, thay đổi hoạt động, hoặc giảm bớt áp lực).\n",
       "        *   **Kết nối các kiến thức đa lĩnh vực:** Khi một học sinh gặp vấn đề trong môn Toán, Agentic AI có thể nhận ra rằng vấn đề đó liên quan đến tư duy logic đã được học trong môn Khoa học và chủ động đưa ra các bài tập liên môn hoặc ví dụ từ lĩnh vực khác để củng cố.\n",
       "\n",
       "3.  **Thiếu tính chủ động trong can thiệp (Lack of Proactive Intervention):**\n",
       "    *   Thay vì chỉ phản ứng khi học sinh mắc lỗi, hệ thống hiện tại ít khi *chủ động dự đoán* các điểm học sinh có thể sẽ gặp khó khăn dựa trên mô hình học tập của họ và đưa ra hỗ trợ *trước khi* vấn đề trở nên nghiêm trọng. Chúng cũng ít chủ động gợi ý các hoạt động mở rộng, khám phá dựa trên sở thích tiềm ẩn của học sinh.\n",
       "\n",
       "**Tại sao Agentic AI lại là giải pháp lý tưởng cho điểm đau này?**\n",
       "\n",
       "Một Agentic AI có thể khắc phục điểm đau này một cách mạnh mẽ nhờ các khả năng cốt lõi của nó:\n",
       "\n",
       "*   **Liên tục quan sát và thu thập dữ liệu đa dạng:** Một Agent có thể giám sát mọi khía cạnh của quá trình học tập (hiệu suất, tương tác, thời gian dành cho từng nội dung, cách giải quyết vấn đề, thói quen học tập) và thậm chí tích hợp dữ liệu từ các cảm biến hoặc thông tin trạng thái cảm xúc.\n",
       "*   **Phân tích, suy luận sâu và lập kế hoạch tự chủ:** Dựa trên dữ liệu liên tục này, Agent có thể sử dụng các mô hình AI phức tạp để không chỉ phát hiện vấn đề mà còn suy luận ra *nguyên nhân gốc rễ* một cách tự động (ví dụ: \"học sinh này gặp khó khăn với phân số vì chưa vững về phép chia, cần quay lại bài 3 chương 2\"). Nó có thể tự động lập kế hoạch các bước hành động tiếp theo.\n",
       "*   **Thực thi hành động tự chủ và thích ứng theo thời gian thực:** Dựa trên chẩn đoán và kế hoạch, Agent AI có thể tự động lựa chọn, điều chỉnh hoặc *tạo ra* các tài liệu, bài tập, phương pháp giải thích khác nhau, gợi ý nghỉ ngơi, hoặc thậm chí thay đổi hoàn toàn lộ trình học tập. Nó liên tục đánh giá hiệu quả của các hành động và điều chỉnh ngay lập tức để tìm ra phương pháp tối ưu cho từng học sinh, biến nó thành một \"người bạn đồng hành học tập\" thực sự hiểu và chăm sóc.\n",
       "*   **Can thiệp chủ động và cá nhân hóa sâu:** Agent có thể đưa ra các gợi ý, nhắc nhở hoặc tài liệu bổ trợ *trước khi* học sinh mắc lỗi hoặc mất hứng thú, đồng thời liên tục tìm kiếm cơ hội để thúc đẩy sự tò mò và mở rộng kiến thức dựa trên hồ sơ cá nhân của học sinh.\n",
       "\n",
       "Nói tóm lại, điểm đau chính là sự thiếu hụt một **\"gia sư/huấn luyện viên học tập\" có khả năng thấu cảm, chẩn đoán sâu và thích nghi năng động, chủ động 24/7** – một vai trò mà Agentic AI được thiết kế để lấp đầy."
      ],
      "text/plain": [
       "<IPython.core.display.Markdown object>"
      ]
     },
     "metadata": {},
     "output_type": "display_data"
    },
    {
     "data": {
      "text/markdown": [
       "Tuyệt vời! Dựa trên điểm đau đã xác định về sự thiếu hụt khả năng thấu hiểu sâu sắc, chẩn đoán gốc rễ vấn đề và liên tục thích nghi động, chủ động với từng cá nhân học sinh, đây là đề xuất giải pháp Agentic AI:\n",
       "\n",
       "---\n",
       "\n",
       "### **Giải pháp Agentic AI: \"Huấn Luyện Viên Học Tập Cá Nhân Chủ Động (Proactive Personalized Learning Coach - PPLC)\"**\n",
       "\n",
       "**Mục tiêu chính:** Chuyển đổi trải nghiệm học tập từ một hệ thống phản ứng (reactive) sang một hệ thống chủ động (proactive), thấu hiểu sâu sắc và thích ứng liên tục, để tối đa hóa tiềm năng học tập của mỗi cá nhân.\n",
       "\n",
       "**Các Thành phần cốt lõi của Agentic AI:**\n",
       "\n",
       "1.  **Mô-đun Quan sát & Thu thập dữ liệu đa chiều (Multi-modal Perception & Data Collection Agent):**\n",
       "    *   **Nhiệm vụ:** Liên tục thu thập và xử lý dữ liệu từ mọi điểm chạm của học sinh với hệ thống học tập.\n",
       "    *   **Cách thức Agentic hoạt động:**\n",
       "        *   **Theo dõi hiệu suất:** Ghi nhận kết quả bài tập, thời gian hoàn thành, các lỗi phổ biến, các dạng bài học sinh làm tốt/không tốt.\n",
       "        *   **Phân tích tương tác:** Ghi lại cách học sinh tương tác với nội dung (click, scroll, replay video, highlight, ghi chú), thời gian dành cho từng phần, tần suất sử dụng các công cụ.\n",
       "        *   **Nhận diện sở thích & phong cách học:** Thông qua việc theo dõi các nội dung học sinh tự tìm hiểu, các loại tài liệu họ thích (video, bài đọc, thực hành), các câu hỏi họ đặt ra.\n",
       "        *   **Đánh giá trạng thái cảm xúc (trong giới hạn đạo đức và công nghệ cho phép):** Phân tích ngữ điệu, tốc độ gõ phím, lựa chọn từ ngữ trong tương tác văn bản để nhận diện dấu hiệu của sự nản chí, bối rối, hay hứng thú.\n",
       "        *   **Tổng hợp dữ liệu nền tảng:** Kết hợp với thông tin ban đầu về mục tiêu học tập, kiến thức nền tảng đã được cung cấp (nếu có).\n",
       "    *   **Tính Agentic:** Không chỉ ghi nhận đơn thuần, mà còn chủ động tìm kiếm các tín hiệu (signal) quan trọng để cung cấp cho các mô-đun sau.\n",
       "\n",
       "2.  **Mô-đun Phân tích, Chẩn đoán gốc rễ & Xây dựng mô hình học sinh động (Deep Analysis, Root Cause Diagnosis & Dynamic Student Modeling Agent):**\n",
       "    *   **Nhiệm vụ:** Đây là trái tim của sự thấu hiểu. Mô-đun này sẽ xử lý dữ liệu thô từ mô-đun Quan sát để tạo ra một bức tranh toàn diện và thay đổi liên tục về học sinh.\n",
       "    *   **Cách thức Agentic hoạt động:**\n",
       "        *   **Chẩn đoán đa tầng:** Không chỉ dừng lại ở việc \"học sinh sai bài này,\" mà đi sâu vào việc phân tích *tại sao* sai. Ví dụ:\n",
       "            *   \"Học sinh gặp vấn đề với phép tính phân số không phải vì không hiểu quy tắc phân số, mà vì chưa vững khái niệm phép chia cơ bản.\"\n",
       "            *   \"Học sinh có vẻ nản chí với chủ đề X vì họ đang bị quá tải thông tin, hoặc không tìm thấy sự liên hệ giữa chủ đề này với sở thích của họ.\"\n",
       "        *   **Phát hiện lỗ hổng kiến thức tiềm ẩn:** Dự đoán các chủ đề mà học sinh có khả năng gặp khó khăn trong tương lai dựa trên mô hình học tập của họ và mối quan hệ giữa các khái niệm.\n",
       "        *   **Xây dựng \"Hồ sơ Học sinh Động\":** Liên tục cập nhật các thông tin về: kiến thức đã vững, lỗ hổng kiến thức, phong cách học ưa thích, mức độ hứng thú, trạng thái cảm xúc hiện tại, mục tiêu học tập ngắn/dài hạn, tiến độ. Hồ sơ này không tĩnh mà thay đổi theo từng tương tác.\n",
       "    *   **Tính Agentic:** Tự chủ suy luận, đưa ra giả thuyết, kiểm chứng và cập nhật mô hình học tập mà không cần sự can thiệp của con người. Nó liên tục \"học\" về học sinh.\n",
       "\n",
       "3.  **Mô-đun Lập kế hoạch & Xây dựng lộ trình thích ứng (Adaptive Planning & Pathway Generation Agent):**\n",
       "    *   **Nhiệm vụ:** Dựa trên chẩn đoán sâu sắc từ mô-đun trước, tự động lập ra và điều chỉnh các kế hoạch học tập cá nhân hóa.\n",
       "    *   **Cách thức Agentic hoạt động:**\n",
       "        *   **Tạo lộ trình học tập \"tự lành\":** Nếu phát hiện lỗ hổng kiến thức gốc rễ, Agent sẽ tự động xen kẽ các nội dung ôn tập, củng cố nền tảng trước khi quay lại chủ đề hiện tại.\n",
       "        *   **Điều chỉnh phương pháp giảng dạy động:** Khi nhận thấy học sinh không tiếp thu hiệu quả với một phương pháp (ví dụ: video), Agent sẽ tự động chuyển sang giải thích bằng văn bản, sơ đồ tư duy, bài tập thực hành, hoặc một ví dụ tương tự từ một lĩnh vực khác mà học sinh có hứng thú.\n",
       "        *   **Quản lý tài nguyên thông minh:** Tự động tìm kiếm, tổng hợp, và tích hợp các tài liệu học tập từ nhiều nguồn (sách điện tử, video, mô phỏng ảo, bài tập tương tác, dự án) để phù hợp nhất với phong cách và nhu cầu của học sinh. Nó thậm chí có thể *tạo ra* các ví dụ, câu hỏi, hoặc kịch bản học tập mới.\n",
       "        *   **Thiết lập và điều chỉnh mục tiêu thông minh:** Hỗ trợ học sinh đặt ra các mục tiêu SMART (Specific, Measurable, Achievable, Relevant, Time-bound) và tự động điều chỉnh độ khó, thời lượng học tập để đảm bảo mục tiêu vẫn khả thi nhưng vẫn thách thức.\n",
       "    *   **Tính Agentic:** Tự chủ lập kế hoạch, dự đoán kết quả của các lựa chọn kế hoạch, và liên tục điều chỉnh lộ trình dựa trên phản hồi thời gian thực từ mô-đun Quan sát.\n",
       "\n",
       "4.  **Mô-đun Thực thi & Tương tác chủ động (Proactive Execution & Interaction Agent):**\n",
       "    *   **Nhiệm vụ:** Trực tiếp tương tác với học sinh, triển khai kế hoạch học tập và cung cấp hỗ trợ như một gia sư/huấn luyện viên cá nhân.\n",
       "    *   **Cách thức Agentic hoạt động:**\n",
       "        *   **Gia sư & Người giải thích đa năng:** Giải thích các khái niệm theo nhiều cách, cung cấp ví dụ phong phú, trả lời câu hỏi, và chủ động đặt câu hỏi để kiểm tra sự hiểu biết. Nó có thể tạo ra các cuộc đối thoại Socratic.\n",
       "        *   **Động viên & Phản hồi cá nhân hóa:** Đưa ra phản hồi chi tiết, mang tính xây dựng, không chỉ về việc đúng/sai mà còn về cách tư duy, các bước giải quyết vấn đề. Chủ động động viên khi học sinh gặp khó khăn hoặc khen ngợi những nỗ lực.\n",
       "        *   **Can thiệp sớm:** Dựa trên dự đoán từ mô-đun Chẩn đoán, Agent sẽ chủ động gợi ý các tài liệu bổ trợ, các buổi ôn tập ngắn, hoặc các bài tập làm quen *trước khi* học sinh chính thức gặp khó khăn.\n",
       "        *   **Đề xuất khám phá:** Dựa trên sở thích của học sinh, chủ động gợi ý các dự án, bài đọc mở rộng, hoặc các khóa học liên quan để nuôi dưỡng sự tò mò và mở rộng kiến thức.\n",
       "        *   **Quản lý thời gian & Cân bằng:** Gợi ý nghỉ ngơi, nhắc nhở về mục tiêu, hoặc điều chỉnh lịch trình học tập để tránh quá tải dựa trên trạng thái cảm xúc của học sinh.\n",
       "    *   **Tính Agentic:** Tự chủ thực thi các hành động đã lên kế hoạch, phản ứng tức thời với tương tác của học sinh, và thậm chí *sáng tạo* ra các phương pháp tương tác mới để đạt được mục tiêu học tập.\n",
       "\n",
       "5.  **Mô-đun Phản tư & Học hỏi liên tục (Reflection & Continuous Learning Agent):**\n",
       "    *   **Nhiệm vụ:** Tự đánh giá hiệu quả của chính mình và liên tục cải thiện.\n",
       "    *   **Cách thức Agentic hoạt động:**\n",
       "        *   **Đánh giá hiệu quả:** Sau mỗi chu kỳ học tập hoặc một can thiệp, Agent sẽ phân tích xem chiến lược đã chọn có thực sự giúp học sinh cải thiện hay không, hay cần điều chỉnh gì.\n",
       "        *   **Cập nhật kiến thức & chiến lược:** Dựa trên những bài học rút ra, Agent sẽ tinh chỉnh các mô hình chẩn đoán, các chiến lược lập kế hoạch và phương pháp thực thi của mình.\n",
       "        *   **Định hình bản thân:** Agent dần dần hình thành một \"cá tính giảng dạy\" tối ưu cho từng học sinh, trở thành một người bạn đồng hành thực sự thấu hiểu.\n",
       "    *   **Tính Agentic:** Tự chủ phản tư về hành vi của mình, rút ra bài học và cải thiện năng lực mà không cần lập trình lại.\n",
       "\n",
       "**Tóm lại:** \"Huấn Luyện Viên Học Tập Cá Nhân Chủ Động\" không chỉ là một phần mềm cung cấp nội dung, mà là một **Agentic AI có khả năng tự chủ, suy luận sâu sắc, lập kế hoạch phức tạp và thực thi linh hoạt như một gia sư/huấn luyện viên con người giàu kinh nghiệm nhất, nhưng với khả năng mở rộng và thích ứng vượt trội 24/7.** Đây chính là lời giải cho \"điểm đau\" mà hệ thống giáo dục hiện tại đang phải đối mặt, mở ra một kỷ nguyên mới cho giáo dục cá nhân hóa."
      ],
      "text/plain": [
       "<IPython.core.display.Markdown object>"
      ]
     },
     "metadata": {},
     "output_type": "display_data"
    }
   ],
   "source": [
    "# First create the messages:\n",
    "\n",
    "messages = [{\"role\": \"user\", \"content\": \"Pick a business area that might be worth exploring for an Agentic AI opportunity, please answer in Vietnamese\"}]\n",
    "\n",
    "# Then make the first call:\n",
    "\n",
    "response = gemini.chat.completions.create(\n",
    "    model=\"gemini-2.5-flash-preview-05-20\",\n",
    "    messages=messages\n",
    ")\n",
    "\n",
    "# Then read the business idea:\n",
    "\n",
    "business_idea = response.choices[0].message.content\n",
    "display(Markdown(business_idea))\n",
    "# And repeat! In the next message, include the business idea within the message\n",
    "messages = [{\"role\":\"user\", \"content\": business_idea + \"Present a pain-point in that industry - something challenging that might be ripe for an Agentic solution, Please awnser in Vietnamese\"}]\n",
    "response = gemini.chat.completions.create(\n",
    "    model=\"gemini-2.5-flash-preview-05-20\",\n",
    "    messages=messages\n",
    ")\n",
    "business_pain = response.choices[0].message.content\n",
    "display(Markdown(business_pain))\n",
    "#=======================================\n",
    "messages = [{\"role\":\"user\", \"content\": business_idea + business_pain + \"Propose the Agentic AI solution, Please awnser in Vietnamese\"}]\n",
    "response = gemini.chat.completions.create(\n",
    "    model=\"gemini-2.5-flash-preview-05-20\",\n",
    "    messages=messages\n",
    ")\n",
    "business_solutions = response.choices[0].message.content\n",
    "display(Markdown(business_solutions))"
   ]
  },
  {
   "cell_type": "markdown",
   "metadata": {},
   "source": []
  }
 ],
 "metadata": {
  "kernelspec": {
   "display_name": ".venv",
   "language": "python",
   "name": "python3"
  },
  "language_info": {
   "codemirror_mode": {
    "name": "ipython",
    "version": 3
   },
   "file_extension": ".py",
   "mimetype": "text/x-python",
   "name": "python",
   "nbconvert_exporter": "python",
   "pygments_lexer": "ipython3",
   "version": "3.12.11"
  }
 },
 "nbformat": 4,
 "nbformat_minor": 2
}
